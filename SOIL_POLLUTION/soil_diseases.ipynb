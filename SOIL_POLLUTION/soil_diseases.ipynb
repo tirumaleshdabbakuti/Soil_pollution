{
 "cells": [
  {
   "cell_type": "code",
   "execution_count": 1,
   "id": "6b755b26-5daa-4102-91e0-8eaea268cac9",
   "metadata": {},
   "outputs": [
    {
     "name": "stdout",
     "output_type": "stream",
     "text": [
      "Disease_Type Classification Report:\n",
      "              precision    recall  f1-score   support\n",
      "\n",
      "           0       0.21      0.22      0.21       119\n",
      "           1       0.20      0.21      0.20       117\n",
      "           2       0.18      0.17      0.18       116\n",
      "           3       0.25      0.21      0.23       122\n",
      "           4       0.19      0.22      0.21       126\n",
      "\n",
      "    accuracy                           0.21       600\n",
      "   macro avg       0.21      0.21      0.21       600\n",
      "weighted avg       0.21      0.21      0.21       600\n",
      "\n",
      "Disease_Severity Classification Report:\n",
      "              precision    recall  f1-score   support\n",
      "\n",
      "           0       0.31      0.30      0.30       209\n",
      "           1       0.38      0.34      0.36       204\n",
      "           2       0.27      0.31      0.29       187\n",
      "\n",
      "    accuracy                           0.32       600\n",
      "   macro avg       0.32      0.32      0.32       600\n",
      "weighted avg       0.32      0.32      0.32       600\n",
      "\n"
     ]
    }
   ],
   "source": [
    "import pandas as pd\n",
    "from sklearn.model_selection import train_test_split\n",
    "from sklearn.preprocessing import LabelEncoder\n",
    "from sklearn.ensemble import RandomForestClassifier\n",
    "from sklearn.metrics import classification_report\n",
    "\n",
    "# Load the CSV file\n",
    "df = pd.read_csv(\"soil_pollution_diseases.csv\")\n",
    "\n",
    "# Select the input and output features\n",
    "input_cols = [\"Pollutant_Type\", \"Pollutant_Concentration_mg_kg\", \"Soil_pH\", \"Temperature_C\"]\n",
    "output_cols = [\"Disease_Type\", \"Disease_Severity\"]\n",
    "\n",
    "# Drop rows with missing values in these columns\n",
    "df = df[input_cols + output_cols].dropna()\n",
    "\n",
    "# Encode categorical input and output columns\n",
    "label_encoders = {}\n",
    "for col in df.select_dtypes(include=[\"object\"]).columns:\n",
    "    le = LabelEncoder()\n",
    "    df[col] = le.fit_transform(df[col])\n",
    "    label_encoders[col] = le\n",
    "\n",
    "# Split data into input X and outputs y1, y2\n",
    "X = df[input_cols]\n",
    "y1 = df[\"Disease_Type\"]\n",
    "y2 = df[\"Disease_Severity\"]\n",
    "\n",
    "# Split for Disease_Type prediction\n",
    "X_train, X_test, y1_train, y1_test = train_test_split(X, y1, test_size=0.2, random_state=42)\n",
    "clf1 = RandomForestClassifier(random_state=42)\n",
    "clf1.fit(X_train, y1_train)\n",
    "y1_pred = clf1.predict(X_test)\n",
    "print(\"Disease_Type Classification Report:\")\n",
    "print(classification_report(y1_test, y1_pred))\n",
    "\n",
    "# Split for Disease_Severity prediction\n",
    "X_train, X_test, y2_train, y2_test = train_test_split(X, y2, test_size=0.2, random_state=42)\n",
    "clf2 = RandomForestClassifier(random_state=42)\n",
    "clf2.fit(X_train, y2_train)\n",
    "y2_pred = clf2.predict(X_test)\n",
    "print(\"Disease_Severity Classification Report:\")\n",
    "print(classification_report(y2_test, y2_pred))\n"
   ]
  },
  {
   "cell_type": "code",
   "execution_count": 3,
   "id": "dbd6b1b2-83cc-4c49-b963-13bde88ac05c",
   "metadata": {},
   "outputs": [
    {
     "data": {
      "text/plain": [
       "['label_encoders.pkl']"
      ]
     },
     "execution_count": 3,
     "metadata": {},
     "output_type": "execute_result"
    }
   ],
   "source": [
    "import joblib\n",
    "\n",
    "# Save both models\n",
    "joblib.dump(clf1, \"disease_type_model.pkl\")\n",
    "joblib.dump(clf2, \"disease_severity_model.pkl\")\n",
    "\n",
    "# Save label encoders (needed for encoding inputs and decoding outputs)\n",
    "joblib.dump(label_encoders, \"label_encoders.pkl\")"
   ]
  },
  {
   "cell_type": "code",
   "execution_count": null,
   "id": "ffaa3b77-9c43-45fa-a81f-05b0f7ec9456",
   "metadata": {},
   "outputs": [],
   "source": []
  }
 ],
 "metadata": {
  "kernelspec": {
   "display_name": "Python 3 (ipykernel)",
   "language": "python",
   "name": "python3"
  },
  "language_info": {
   "codemirror_mode": {
    "name": "ipython",
    "version": 3
   },
   "file_extension": ".py",
   "mimetype": "text/x-python",
   "name": "python",
   "nbconvert_exporter": "python",
   "pygments_lexer": "ipython3",
   "version": "3.12.4"
  }
 },
 "nbformat": 4,
 "nbformat_minor": 5
}
